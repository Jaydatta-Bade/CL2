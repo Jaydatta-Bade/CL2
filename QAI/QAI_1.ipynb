{
 "cells": [
  {
   "cell_type": "markdown",
   "id": "0da3a0a4",
   "metadata": {},
   "source": [
    "### 1. Implementations of 16 Qubit Random Number Generator\n",
    "\n",
    "https://quantumcomputinguk.org/tutorials/16-qubit-random-number-generator"
   ]
  },
  {
   "cell_type": "code",
   "execution_count": 5,
   "id": "0267e6a4",
   "metadata": {},
   "outputs": [
    {
     "name": "stdout",
     "output_type": "stream",
     "text": [
      "Executing Job...\n",
      "\n",
      "Job Status: job has successfully run\n",
      "RESULT:  {'0000010011000010': 1} \n",
      "\n",
      "Press any key to close\n",
      "c\n"
     ]
    },
    {
     "data": {
      "text/plain": [
       "'c'"
      ]
     },
     "execution_count": 5,
     "metadata": {},
     "output_type": "execute_result"
    }
   ],
   "source": [
    "from qiskit import QuantumRegister, ClassicalRegister, QuantumCircuit, execute,IBMQ\n",
    "from qiskit.tools.monitor import job_monitor\n",
    "\n",
    "IBMQ.enable_account('e36ca6d2f5e0931c5cbe00acc2c0248b6f5ec69c4ed6a813c6247c96b500b9b688a21a0aadc1590ea65195adba1b2436870f391e6ffc64bc9111382437d14ec5')\n",
    "provider = IBMQ.get_provider(hub='ibm-q')\n",
    "\n",
    "q = QuantumRegister(16,'q')\n",
    "c = ClassicalRegister(16,'c')\n",
    "circuit = QuantumCircuit(q,c)\n",
    "circuit.h(q) # Applies hadamard gate to all qubits\n",
    "circuit.measure(q,c) # Measures all qubits \n",
    "\n",
    "backend = provider.get_backend('ibmq_qasm_simulator')\n",
    "job = execute(circuit, backend, shots=1)\n",
    "                               \n",
    "print('Executing Job...\\n')                 \n",
    "job_monitor(job)\n",
    "counts = job.result().get_counts()\n",
    "\n",
    "print('RESULT: ',counts,'\\n')\n",
    "print('Press any key to close')\n",
    "input()"
   ]
  },
  {
   "cell_type": "code",
   "execution_count": 4,
   "id": "2f13c291",
   "metadata": {},
   "outputs": [
    {
     "name": "stdout",
     "output_type": "stream",
     "text": [
      "{'1111000000101010': 1}\n"
     ]
    }
   ],
   "source": [
    "# without API Key\n",
    "\n",
    "# Import Qiskit\n",
    "from qiskit import QuantumCircuit, execute, Aer\n",
    "\n",
    "# Create a quantum circuit with 16 qubits\n",
    "qc = QuantumCircuit(16, 16)\n",
    "\n",
    "# Apply Hadamard gate to all qubits to create superposition\n",
    "for qubit in range(16):\n",
    "    qc.h(qubit)\n",
    "\n",
    "# Measure the qubits\n",
    "qc.measure(range(16), range(16))\n",
    "\n",
    "# Execute the circuit on the qasm simulator\n",
    "simulator = Aer.get_backend('qasm_simulator')\n",
    "job = execute(qc, simulator, shots=1)\n",
    "result = job.result()\n",
    "\n",
    "# Extract the results\n",
    "random_number = result.get_counts(qc)\n",
    "\n",
    "# Print the random number\n",
    "print(random_number)\n"
   ]
  },
  {
   "cell_type": "code",
   "execution_count": null,
   "id": "201a331e",
   "metadata": {},
   "outputs": [],
   "source": []
  }
 ],
 "metadata": {
  "kernelspec": {
   "display_name": "Python 3 (ipykernel)",
   "language": "python",
   "name": "python3"
  },
  "language_info": {
   "codemirror_mode": {
    "name": "ipython",
    "version": 3
   },
   "file_extension": ".py",
   "mimetype": "text/x-python",
   "name": "python",
   "nbconvert_exporter": "python",
   "pygments_lexer": "ipython3",
   "version": "3.9.6"
  }
 },
 "nbformat": 4,
 "nbformat_minor": 5
}
