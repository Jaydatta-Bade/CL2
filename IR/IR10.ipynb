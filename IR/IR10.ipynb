{
 "cells": [
  {
   "cell_type": "markdown",
   "id": "10a61a25",
   "metadata": {},
   "source": [
    "#### 5. Implement Page Rank Algorithm. (Use python for implementation)."
   ]
  },
  {
   "cell_type": "code",
   "execution_count": 2,
   "id": "2d571b63",
   "metadata": {},
   "outputs": [
    {
     "data": {
      "text/plain": [
       "array([0.3264102 , 0.31494867, 0.32114113, 0.0375    ])"
      ]
     },
     "execution_count": 2,
     "metadata": {},
     "output_type": "execute_result"
    }
   ],
   "source": [
    "import numpy as np\n",
    "\n",
    "# Define the example graph in the form of a matrix (as per the standard PageRank algorithm).\n",
    "# Here, a simple graph is assumed for the demonstration with 4 pages and the corresponding links between them.\n",
    "\n",
    "M = np.array([\n",
    "    [0, 0, 1, 0.5],  # Links from 1\n",
    "    [1, 0, 0, 0],    # Links from 2\n",
    "    [0, 1, 0, 0.5],  # Links from 3\n",
    "    [0, 0, 0, 0]     # Links from 4\n",
    "])\n",
    "\n",
    "# The damping factor: probability that the surfer clicks on a link\n",
    "damping_factor = 0.85\n",
    "\n",
    "# Total number of pages\n",
    "N = M.shape[0]\n",
    "\n",
    "# Initialize the page rank vector\n",
    "page_rank = np.ones(N) / N\n",
    "\n",
    "# PageRank iterative algorithm\n",
    "for _ in range(100):\n",
    "    page_rank_new = (1 - damping_factor) / N + damping_factor * M.dot(page_rank)\n",
    "    \n",
    "    # Check if convergence is reached\n",
    "    if np.allclose(page_rank_new, page_rank):\n",
    "        break\n",
    "    \n",
    "    page_rank = page_rank_new\n",
    "\n",
    "page_rank\n"
   ]
  },
  {
   "cell_type": "code",
   "execution_count": null,
   "id": "fb4d610f",
   "metadata": {},
   "outputs": [],
   "source": []
  }
 ],
 "metadata": {
  "kernelspec": {
   "display_name": "Python 3 (ipykernel)",
   "language": "python",
   "name": "python3"
  },
  "language_info": {
   "codemirror_mode": {
    "name": "ipython",
    "version": 3
   },
   "file_extension": ".py",
   "mimetype": "text/x-python",
   "name": "python",
   "nbconvert_exporter": "python",
   "pygments_lexer": "ipython3",
   "version": "3.9.12"
  }
 },
 "nbformat": 4,
 "nbformat_minor": 5
}
