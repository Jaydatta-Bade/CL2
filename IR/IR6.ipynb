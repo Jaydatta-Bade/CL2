{
 "cells": [
  {
   "cell_type": "markdown",
   "metadata": {},
   "source": [
    "#### 1. Write a program for pre-processing of a text document such as stop word removal, stemming.\n"
   ]
  },
  {
   "cell_type": "code",
   "execution_count": 3,
   "metadata": {},
   "outputs": [
    {
     "name": "stdout",
     "output_type": "stream",
     "text": [
      "['This', 'is', 'a', 'sample', 'sentence', 'with', 'several', 'stop', 'words', 'and', 'words', 'that', 'can', 'be', 'stemmed', '.']\n"
     ]
    }
   ],
   "source": [
    "import nltk\n",
    "from nltk.corpus import stopwords\n",
    "from nltk.tokenize import word_tokenize\n",
    "from nltk.stem import PorterStemmer\n",
    "\n",
    "# example text\n",
    "text = \"This is a sample sentence with several stop words and words that can be stemmed.\"\n",
    "\n",
    "# tokenization\n",
    "tokens = word_tokenize(text)\n",
    "print(tokens)\n"
   ]
  },
  {
   "cell_type": "code",
   "execution_count": 6,
   "metadata": {},
   "outputs": [
    {
     "name": "stdout",
     "output_type": "stream",
     "text": [
      "sample sentence several stop words words stemmed .\n"
     ]
    }
   ],
   "source": [
    "# stop word removal\n",
    "stop_words = set(stopwords.words('english'))\n",
    "# print(stop_words)\n",
    "filtered_tokens = [w for w in tokens if not w.lower() in stop_words]\n",
    "\n",
    "filtered_text = ' '.join(filtered_tokens)\n",
    "print(filtered_text)"
   ]
  },
  {
   "cell_type": "code",
   "execution_count": 7,
   "metadata": {},
   "outputs": [
    {
     "name": "stdout",
     "output_type": "stream",
     "text": [
      "sampl sentenc sever stop word word stem .\n"
     ]
    }
   ],
   "source": [
    "# Stemming\n",
    "stemmer = PorterStemmer()\n",
    "stemmed_tokens = [stemmer.stem(w) for w in filtered_tokens]\n",
    "\n",
    "print(' '.join(stemmed_tokens))"
   ]
  },
  {
   "cell_type": "code",
   "execution_count": null,
   "metadata": {},
   "outputs": [],
   "source": []
  },
  {
   "cell_type": "code",
   "execution_count": 9,
   "id": "4bdbb2e1",
   "metadata": {},
   "outputs": [
    {
     "name": "stdout",
     "output_type": "stream",
     "text": [
      "program : program\n",
      "programs : program\n",
      "programmer : programm\n",
      "programming : program\n",
      "programmers : programm\n"
     ]
    }
   ],
   "source": [
    "# Choose some words to be stemmed\n",
    "words = [\"program\", \"programs\", \"programmer\", \"programming\", \"programmers\"]\n",
    "\n",
    "for w in words:\n",
    "    print(w, \":\", stemmer.stem(w))"
   ]
  },
  {
   "cell_type": "code",
   "execution_count": 10,
   "id": "9c763ca1",
   "metadata": {},
   "outputs": [
    {
     "name": "stdout",
     "output_type": "stream",
     "text": [
      "Programmers : programm\n",
      "program : program\n",
      "with : with\n",
      "programming : program\n",
      "languages : languag\n"
     ]
    }
   ],
   "source": [
    "sentence = \"Programmers program with programming languages\"\n",
    "words = word_tokenize(sentence)\n",
    "\n",
    "for w in words:\n",
    "    print(w, \":\", stemmer.stem(w))"
   ]
  },
  {
   "cell_type": "code",
   "execution_count": 8,
   "id": "766b653b",
   "metadata": {},
   "outputs": [
    {
     "data": {
      "text/plain": [
       "('This is a sample text with several stop words and words that can be stemmed.',\n",
       " 'sample text several stop words words stemmed',\n",
       " 'sample text several stop word word stemm')"
      ]
     },
     "execution_count": 8,
     "metadata": {},
     "output_type": "execute_result"
    }
   ],
   "source": [
    "# without using nltk\n",
    "import re\n",
    "\n",
    "# A simple text processor that doesn't rely on external resources\n",
    "\n",
    "class SimpleTextProcessor:\n",
    "    def __init__(self):\n",
    "        # Define a small list of stop words\n",
    "        self.stop_words = {\n",
    "            \"i\", \"me\", \"my\", \"myself\", \"we\", \"our\", \"ours\", \"ourselves\", \"you\", \"your\", \"yours\",\n",
    "            \"yourself\", \"yourselves\", \"he\", \"him\", \"his\", \"himself\", \"she\", \"her\", \"hers\",\n",
    "            \"herself\", \"it\", \"its\", \"itself\", \"they\", \"them\", \"their\", \"theirs\", \"themselves\",\n",
    "            \"what\", \"which\", \"who\", \"whom\", \"this\", \"that\", \"these\", \"those\", \"am\", \"is\", \"are\",\n",
    "            \"was\", \"were\", \"be\", \"been\", \"being\", \"have\", \"has\", \"had\", \"having\", \"do\", \"does\",\n",
    "            \"did\", \"doing\", \"a\", \"an\", \"the\", \"and\", \"but\", \"if\", \"or\", \"because\", \"as\", \"until\",\n",
    "            \"while\", \"of\", \"at\", \"by\", \"for\", \"with\", \"about\", \"against\", \"between\", \"into\",\n",
    "            \"through\", \"during\", \"before\", \"after\", \"above\", \"below\", \"to\", \"from\", \"up\", \"down\",\n",
    "            \"in\", \"out\", \"on\", \"off\", \"over\", \"under\", \"again\", \"further\", \"then\", \"once\", \"here\",\n",
    "            \"there\", \"when\", \"where\", \"why\", \"how\", \"all\", \"any\", \"both\", \"each\", \"few\", \"more\",\n",
    "            \"most\", \"other\", \"some\", \"such\", \"no\", \"nor\", \"not\", \"only\", \"own\", \"same\", \"so\",\n",
    "            \"than\", \"too\", \"very\", \"s\", \"t\", \"can\", \"will\", \"just\", \"don\", \"should\", \"now\"\n",
    "        }\n",
    "\n",
    "    def tokenize(self, text):\n",
    "        # Tokenize by word, removing punctuation\n",
    "        return re.findall(r'\\b\\w+\\b', text.lower())\n",
    "\n",
    "    def remove_stop_words(self, tokens):\n",
    "        # Remove stop words\n",
    "        return [token for token in tokens if token not in self.stop_words]\n",
    "\n",
    "    def stem(self, tokens):\n",
    "        # A very basic stemming that just removes common endings\n",
    "        return [re.sub(r'(ing|ed|s|es)$', '', token) for token in tokens]\n",
    "\n",
    "# Example text\n",
    "text = \"This is a sample text with several stop words and words that can be stemmed.\"\n",
    "\n",
    "# Instantiate the processor\n",
    "processor = SimpleTextProcessor()\n",
    "\n",
    "# Process the text\n",
    "tokens = processor.tokenize(text)\n",
    "filtered_tokens = processor.remove_stop_words(tokens)\n",
    "stemmed_tokens = processor.stem(filtered_tokens)\n",
    "\n",
    "# Show the results\n",
    "original_text, filtered_text, stemmed_text = text, ' '.join(filtered_tokens), ' '.join(stemmed_tokens)\n",
    "original_text, filtered_text, stemmed_text\n"
   ]
  },
  {
   "cell_type": "code",
   "execution_count": null,
   "metadata": {},
   "outputs": [],
   "source": []
  }
 ],
 "metadata": {
  "kernelspec": {
   "display_name": "Python 3 (ipykernel)",
   "language": "python",
   "name": "python3"
  },
  "language_info": {
   "codemirror_mode": {
    "name": "ipython",
    "version": 3
   },
   "file_extension": ".py",
   "mimetype": "text/x-python",
   "name": "python",
   "nbconvert_exporter": "python",
   "pygments_lexer": "ipython3",
   "version": "3.9.12"
  }
 },
 "nbformat": 4,
 "nbformat_minor": 5
}
