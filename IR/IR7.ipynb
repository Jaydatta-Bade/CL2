{
 "cells": [
  {
   "cell_type": "markdown",
   "metadata": {},
   "source": [
    "#### 2. Implement a program for retrieval of documents using inverted files.\n",
    "The inverted index is a dictionary where each word is a key, and the value is a set of document IDs that contain the word. This structure enables quick retrieval of documents based on word queries.​"
   ]
  },
  {
   "cell_type": "code",
   "execution_count": 3,
   "metadata": {},
   "outputs": [
    {
     "name": "stdout",
     "output_type": "stream",
     "text": [
      "{'doc1', 'doc3'}\n"
     ]
    }
   ],
   "source": [
    "# Let's assume we have the following set of documents:\n",
    "documents = {\n",
    "    'doc1': 'the brown fox jumped over the brown dog',\n",
    "    'doc2': 'the lazy brown dog sat in the corner',\n",
    "    'doc3': 'the red fox bit the lazy dog'\n",
    "}\n",
    "\n",
    "# Function to create an inverted index\n",
    "def create_inverted_index(docs):\n",
    "    inverted_index = {}\n",
    "    for doc_id, text in docs.items():\n",
    "        # Tokenize the document\n",
    "        tokens = text.split()\n",
    "        for token in tokens:\n",
    "            # Convert token to lowercase to ensure case-insensitive matching\n",
    "            token = token.lower()\n",
    "            # Add the document to the inverted index for the token\n",
    "            if token in inverted_index:\n",
    "                inverted_index[token].add(doc_id)\n",
    "            else:\n",
    "                inverted_index[token] = {doc_id}\n",
    "    return inverted_index\n",
    "\n",
    "# Function to retrieve documents that contain a specific word\n",
    "def retrieve_documents(inverted_index, word):\n",
    "    # Convert the search word to lowercase\n",
    "    word = word.lower()\n",
    "    # Retrieve the set of documents that contain the word\n",
    "    return inverted_index.get(word, set())\n",
    "\n",
    "# Create the inverted index\n",
    "inverted_index = create_inverted_index(documents)\n",
    "\n",
    "# Now let's retrieve documents that contain the word 'fox'\n",
    "search_word = 'fox'\n",
    "retrieved_docs = retrieve_documents(inverted_index, search_word)\n",
    "\n",
    "print(retrieved_docs) # Return the retrieved documents and the inverted index for inspection\n"
   ]
  },
  {
   "cell_type": "code",
   "execution_count": null,
   "metadata": {},
   "outputs": [],
   "source": []
  }
 ],
 "metadata": {
  "kernelspec": {
   "display_name": "Python 3 (ipykernel)",
   "language": "python",
   "name": "python3"
  },
  "language_info": {
   "codemirror_mode": {
    "name": "ipython",
    "version": 3
   },
   "file_extension": ".py",
   "mimetype": "text/x-python",
   "name": "python",
   "nbconvert_exporter": "python",
   "pygments_lexer": "ipython3",
   "version": "3.9.12"
  }
 },
 "nbformat": 4,
 "nbformat_minor": 5
}
